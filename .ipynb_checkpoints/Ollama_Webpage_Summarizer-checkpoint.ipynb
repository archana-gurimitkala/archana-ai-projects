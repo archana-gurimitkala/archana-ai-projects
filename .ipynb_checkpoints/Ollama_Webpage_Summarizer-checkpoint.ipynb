{
 "cells": [
  {
   "cell_type": "code",
   "execution_count": 2,
   "id": "0cc147b8-e782-42de-b092-6487e0f811d5",
   "metadata": {},
   "outputs": [
    {
     "name": "stdout",
     "output_type": "stream",
     "text": [
      "Fetching webpage: https://en.wikipedia.org/wiki/Artificial_intelligence\n",
      "\n",
      "\n",
      "--- Webpage Content Preview ---\n",
      "Artificial intelligence - Wikipedia Jump to content Main menu Main menu move to sidebar hide Navigation Main page Contents Current events Random article About Wikipedia Contact us Contribute Help Learn to edit Community portal Recent changes Upload file Special pages Search Search Appearance Donate Create account Log in Personal tools Donate Create account Log in Pages for logged out editors learn more Contributions Talk Contents move to sidebar hide (Top) 1 Goals Toggle Goals subsection 1.1 Rea ...\n",
      "\n",
      "\n",
      "--- Ollama Summary ---\n",
      "This webpage appears to be the Wikipedia article on Artificial Intelligence. Here are five concise bullet points summarizing the article:\n",
      "\n",
      "• **Goals and Techniques**: The article discusses the goals of artificial intelligence, including reasoning, problem-solving, knowledge representation, planning, decision-making, learning, natural language processing, perception, social intelligence, and general intelligence. It also lists various techniques used to achieve these goals, such as search and optimization, logic, probabilistic methods, classifiers, artificial neural networks, deep learning, and more.\n",
      "\n",
      "• **Applications**: The article highlights the diverse applications of artificial intelligence, including health and medicine, games, mathematics, finance, military, generative AI, agents, web search, sexuality, and other industry-specific tasks.\n",
      "\n",
      "• **Ethics**: The article addresses various ethical concerns surrounding artificial intelligence, such as risks and harm, including privacy and copyright issues, dominance by tech giants, power needs and environmental impacts, misinformation, algorithmic bias and fairness, lack of transparency, bad actors and weaponized AI, technological unemployment, and existential risk.\n",
      "\n",
      "• **History**: The article discusses the history of artificial intelligence, from its definition to current approaches, including symbolic AI, neat vs. scruffy, soft vs. hard computing, narrow vs. general AI, machine consciousness, sentience, and mind.\n",
      "\n",
      "• **Future**: The article touches on future developments in artificial intelligence, such as superintelligence and the singularity, transhumanism, and its potential implications for humanity.\n"
     ]
    }
   ],
   "source": [
    "# Install required packages if not already\n",
    "# pip install requests beautifulsoup4 ollama\n",
    "\n",
    "import requests\n",
    "from bs4 import BeautifulSoup\n",
    "import ollama\n",
    "\n",
    "# Step 1: Fetch webpage with headers (avoid 403 errors)\n",
    "def fetch_webpage(url):\n",
    "    headers = {\n",
    "        \"User-Agent\": \"Mozilla/5.0 (Macintosh; Intel Mac OS X 10_15_7) \"\n",
    "                      \"AppleWebKit/537.36 (KHTML, like Gecko) \"\n",
    "                      \"Chrome/114.0.0.0 Safari/537.36\"\n",
    "    }\n",
    "    response = requests.get(url, headers=headers)\n",
    "    response.raise_for_status()\n",
    "    soup = BeautifulSoup(response.text, \"html.parser\")\n",
    "    text = \" \".join(soup.stripped_strings)\n",
    "    return text\n",
    "\n",
    "# Step 2: Summarize using Ollama model\n",
    "def summarize_with_ollama(text, model=\"llama3.2\"):\n",
    "    prompt = f\"Summarize this webpage in 5 concise bullet points:\\n\\n{text[:4000]}\"\n",
    "    response = ollama.chat(\n",
    "        model=model,\n",
    "        messages=[{\"role\": \"user\", \"content\": prompt}]\n",
    "    )\n",
    "    return response[\"message\"][\"content\"]\n",
    "\n",
    "# Step 3: Run the pipeline\n",
    "if __name__ == \"__main__\":\n",
    "    url = \"https://en.wikipedia.org/wiki/Artificial_intelligence\"  # change URL if you want\n",
    "    print(f\"Fetching webpage: {url}\\n\")\n",
    "    \n",
    "    content = fetch_webpage(url)\n",
    "    print(\"\\n--- Webpage Content Preview ---\")\n",
    "    print(content[:500], \"...\\n\")  # preview first 500 chars\n",
    "\n",
    "    print(\"\\n--- Ollama Summary ---\")\n",
    "    summary = summarize_with_ollama(content)\n",
    "    print(summary)\n",
    "\n"
   ]
  },
  {
   "cell_type": "code",
   "execution_count": null,
   "id": "32d0cd9b-bea4-420d-a3b1-1fea2b8a3388",
   "metadata": {},
   "outputs": [],
   "source": []
  }
 ],
 "metadata": {
  "kernelspec": {
   "display_name": "Python 3 (ipykernel)",
   "language": "python",
   "name": "python3"
  },
  "language_info": {
   "codemirror_mode": {
    "name": "ipython",
    "version": 3
   },
   "file_extension": ".py",
   "mimetype": "text/x-python",
   "name": "python",
   "nbconvert_exporter": "python",
   "pygments_lexer": "ipython3",
   "version": "3.13.5"
  }
 },
 "nbformat": 4,
 "nbformat_minor": 5
}
