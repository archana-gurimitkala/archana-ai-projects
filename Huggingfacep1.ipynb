{
 "cells": [
  {
   "cell_type": "code",
   "execution_count": 1,
   "id": "93a05800-4616-46ec-a391-834256cdb38b",
   "metadata": {},
   "outputs": [
    {
     "name": "stderr",
     "output_type": "stream",
     "text": [
      "Using a slow image processor as `use_fast` is unset and a slow processor was saved with this model. `use_fast=True` will be the default behavior in v4.52, even if the model was saved with a slow processor. This will result in minor differences in outputs. You'll still be able to use a slow processor with `use_fast=False`.\n"
     ]
    },
    {
     "name": "stdout",
     "output_type": "stream",
     "text": [
      "Image Explanation:\n",
      " a lake surrounded by trees and a mountain\n"
     ]
    }
   ],
   "source": [
    "# Install required packages if not already\n# pip install transformers torch pillow\n\nfrom transformers import BlipProcessor, BlipForConditionalGeneration\nfrom PIL import Image\n\n# Load model and processor\nmodel_name = \"Salesforce/blip-image-captioning-base\"\nprocessor = BlipProcessor.from_pretrained(model_name)\nmodel = BlipForConditionalGeneration.from_pretrained(model_name)\n\n# Load your local image\nimage_path = \"./images/nature.jpg\"  # <-- change this\nimage = Image.open(image_path).convert(\"RGB\")\n\n# Prepare inputs\ninputs = processor(images=image, return_tensors=\"pt\")\n\n# Generate caption (short description)\nout = model.generate(**inputs, max_length=100)\ncaption = processor.decode(out[0], skip_special_tokens=True)\n\nprint(\"Image Explanation:\\n\", caption)\n"
   ]
  },
  {
   "cell_type": "code",
   "execution_count": null,
   "id": "67053f48-a288-45f5-ac89-ec8dc8a04841",
   "metadata": {},
   "outputs": [],
   "source": []
  }
 ],
 "metadata": {
  "kernelspec": {
   "display_name": "Python 3 (ipykernel)",
   "language": "python",
   "name": "python3"
  },
  "language_info": {
   "codemirror_mode": {
    "name": "ipython",
    "version": 3
   },
   "file_extension": ".py",
   "mimetype": "text/x-python",
   "name": "python",
   "nbconvert_exporter": "python",
   "pygments_lexer": "ipython3",
   "version": "3.13.5"
  }
 },
 "nbformat": 4,
 "nbformat_minor": 5
}