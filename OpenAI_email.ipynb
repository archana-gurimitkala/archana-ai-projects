{
 "cells": [
  {
   "cell_type": "code",
   "execution_count": 2,
   "id": "99eb180d-5968-4ccc-80d1-428b4f78286a",
   "metadata": {},
   "outputs": [
    {
     "name": "stdout",
     "output_type": "stream",
     "text": [
      "Suggested Subject Line: Weekly Sync Meeting Reminder - Tomorrow at 10 AM\n"
     ]
    }
   ],
   "source": [
    "# !pip install openai\n\n# Step 1: Import and set up\nimport os\nfrom openai import OpenAI\n\n# Put your API key here (replace with your real key)\nos.environ[\"OPENAI_API_KEY\"] = \"your api key\"your api key\"\"\n\n# Create the client\nclient = OpenAI()\n\n# Step 2: Create your prompts\nsystem_prompt = \"You are an assistant that suggests short, professional subject lines for emails.\"\nuser_prompt = \"\"\"\nHi team,\n\nJust a reminder that tomorrow we have our weekly sync meeting at 10am.\nPlease bring updates on your project progress.\n\nThanks,\nManager\n\"\"\"\n\n# Step 3: Build the messages list\nmessages = [\n    {\"role\": \"system\", \"content\": system_prompt},\n    {\"role\": \"user\", \"content\": f\"Suggest a subject line for this email:\\n\\n{user_prompt}\"}\n]\n\n# Step 4: Call the model\nresponse = client.chat.completions.create(\n    model=\"gpt-4o-mini\",\n    messages=messages\n)\n\n# Step 5: Show the result\nprint(\"Suggested Subject Line:\", response.choices[0].message.content)\n\n"
   ]
  },
  {
   "cell_type": "code",
   "execution_count": null,
   "id": "5cef9632-7243-4230-839d-ecadd3d1648f",
   "metadata": {},
   "outputs": [],
   "source": [
    ""
   ]
  },
  {
   "cell_type": "code",
   "execution_count": null,
   "id": "d9b1ae1d-a034-485b-8f5a-d84202df5884",
   "metadata": {},
   "outputs": [],
   "source": [
    ""
   ]
  }
 ],
 "metadata": {
  "kernelspec": {
   "display_name": "Python 3 (ipykernel)",
   "language": "python",
   "name": "python3"
  },
  "language_info": {
   "codemirror_mode": {
    "name": "ipython",
    "version": 3
   },
   "file_extension": ".py",
   "mimetype": "text/x-python",
   "name": "python",
   "nbconvert_exporter": "python",
   "pygments_lexer": "ipython3",
   "version": "3.11.13"
  }
 },
 "nbformat": 4,
 "nbformat_minor": 5
}